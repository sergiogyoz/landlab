{
 "cells": [
  {
   "cell_type": "markdown",
   "metadata": {},
   "source": [
    "# The MRSAA-c Component"
   ]
  },
  {
   "cell_type": "markdown",
   "metadata": {},
   "source": [
    "### Setup"
   ]
  },
  {
   "cell_type": "markdown",
   "metadata": {},
   "source": [
    "Our MRSAA-c implementation is done on Landlab's Network Model Grid (NMG), you can think of it as a graph. So let's see a quick example of this"
   ]
  },
  {
   "cell_type": "code",
   "execution_count": 1,
   "metadata": {},
   "outputs": [
    {
     "data": {
      "text/plain": [
       "<AxesSubplot:xlabel='x', ylabel='y'>"
      ]
     },
     "execution_count": 1,
     "metadata": {},
     "output_type": "execute_result"
    },
    {
     "data": {
      "image/png": "[encoded data removed]",
      "text/plain": [
       "<Figure size 432x288 with 1 Axes>"
      ]
     },
     "metadata": {
      "needs_background": "light"
     },
     "output_type": "display_data"
    }
   ],
   "source": [
    "from landlab import NetworkModelGrid\n",
    "import landlab.plot.graph as graph\n",
    "\n",
    "x_of_nodes = [1, 1, 2, 3]\n",
    "y_of_nodes = [3, 1, 2, 2]\n",
    "links = [(0,2) ,(1,2), (2,3)]\n",
    "\n",
    "ngrid = NetworkModelGrid((y_of_nodes, x_of_nodes), links)\n",
    "graph.plot_graph(ngrid, at=\"node,link\", with_id=True)\n",
    "\n"
   ]
  },
  {
   "cell_type": "markdown",
   "metadata": {},
   "source": [
    "This allows us to represent river networks and run processes exclusive to them on this grid. In practice we use topographic data which is usually read as a Raster file (equally spaced 2D grid of topographic elevation). For now we will use the following single channel generated raster"
   ]
  },
  {
   "cell_type": "code",
   "execution_count": 4,
   "metadata": {},
   "outputs": [
    {
     "data": {
      "image/png": "[encoded data removed]",
      "text/plain": [
       "<Figure size 432x288 with 2 Axes>"
      ]
     },
     "metadata": {
      "needs_background": "light"
     },
     "output_type": "display_data"
    }
   ],
   "source": [
    "from landlab import RasterModelGrid, imshow_grid\n",
    "\n",
    "# grid parameters\n",
    "total_length = 2000\n",
    "reach_lenght = 200\n",
    "slope = 0.004\n",
    "steepness = slope * reach_lenght\n",
    "# grid geometry creation\n",
    "n = round(total_length / reach_lenght)\n",
    "shape = (3, n + 2)\n",
    "cliff_height = steepness * n * 1.2 + 0.01\n",
    "topography = [cliff_height] * (3 * (n+2))\n",
    "# create the grid\n",
    "for i in range(n):\n",
    "    topography[n + i + 3] = steepness * (n - i)\n",
    "# store it as a raster file\n",
    "rastergrid = RasterModelGrid(shape=shape, xy_spacing=reach_lenght)\n",
    "rastergrid.add_field(\"topographic__elevation\", topography)\n",
    "imshow_grid(rastergrid, rastergrid.at_node[\"topographic__elevation\"], cmap='inferno_r')\n"
   ]
  },
  {
   "cell_type": "markdown",
   "metadata": {},
   "source": [
    "we can then use landlab's function ```network_grid_from_raster``` to create a NMG"
   ]
  },
  {
   "cell_type": "code",
   "execution_count": 6,
   "metadata": {},
   "outputs": [
    {
     "data": {
      "text/plain": [
       "<AxesSubplot:xlabel='x', ylabel='y'>"
      ]
     },
     "execution_count": 6,
     "metadata": {},
     "output_type": "execute_result"
    },
    {
     "data": {
      "image/png": "[encoded data removed]",
      "text/plain": [
       "<Figure size 432x288 with 1 Axes>"
      ]
     },
     "metadata": {
      "needs_background": "light"
     },
     "output_type": "display_data"
    }
   ],
   "source": [
    "from landlab.grid.create_network import network_grid_from_raster\n",
    "\n",
    "ngrid = network_grid_from_raster(rastergrid)\n",
    "graph.plot_graph(ngrid, at=\"node,link\", with_id=True)"
   ]
  },
  {
   "cell_type": "markdown",
   "metadata": {},
   "source": [
    "Now we need to set up the parameters of the network and sediment. For now we will use default values. Additionally we need the direction of the flow as a ```FlowDirector``` object"
   ]
  },
  {
   "cell_type": "code",
   "execution_count": 7,
   "metadata": {},
   "outputs": [],
   "source": [
    "from landlab.components import Componentcita as comp\n",
    "from landlab.components import FlowDirectorSteepest\n",
    "\n",
    "comp.Componentcita._preset_fields(ngrid=ngrid)\n",
    "flow_director = FlowDirectorSteepest(ngrid)\n",
    "flow_director.run_one_step()"
   ]
  },
  {
   "cell_type": "markdown",
   "metadata": {},
   "source": [
    "And finally create an instance of our component"
   ]
  },
  {
   "cell_type": "code",
   "execution_count": 8,
   "metadata": {},
   "outputs": [],
   "source": [
    "nety = comp.Componentcita(ngrid, flow_director)"
   ]
  },
  {
   "cell_type": "markdown",
   "metadata": {},
   "source": [
    "The shape of this specific network is a line so we can plot it field values in a fairly simple way"
   ]
  },
  {
   "cell_type": "code",
   "execution_count": 9,
   "metadata": {},
   "outputs": [
    {
     "data": {
      "image/png": "[encoded data removed]",
      "text/plain": [
       "<Figure size 432x288 with 1 Axes>"
      ]
     },
     "metadata": {
      "needs_background": "light"
     },
     "output_type": "display_data"
    }
   ],
   "source": [
    "import matplotlib.pyplot as plt\n",
    "import numpy as np\n",
    "YEAR = 365.25 * 24 * 60 * 60\n",
    "\n",
    "xs = np.cumsum(ngrid.at_node[\"reach_length\"])\n",
    "xs = xs - xs[0]\n",
    "\n",
    "ys = ngrid.at_node[\"mean_alluvium_thickness\"]\n",
    "plt.plot(xs, ys, label=\"initial\")\n",
    "plt.title(\"mean alluvium thickness\")\n",
    "ax = plt.gca()\n",
    "fig = plt.gcf()\n"
   ]
  },
  {
   "cell_type": "markdown",
   "metadata": {},
   "source": [
    "Now let's see how the alluvium changes as we let the model run for a year with a constant sediment flux at the upstream end"
   ]
  },
  {
   "cell_type": "code",
   "execution_count": 10,
   "metadata": {},
   "outputs": [
    {
     "name": "stderr",
     "output_type": "stream",
     "text": [
      "C:\\Users\\Paquito\\Desktop\\Github\\landlab\\landlab\\components\\Sergio\\Componentcita.py:703: RuntimeWarning: divide by zero encountered in divide\n",
      "  self._grid.at_node[\"sed_capacity\"][self.sources] = flux_in / p\n",
      "C:\\Users\\Paquito\\Desktop\\Github\\landlab\\landlab\\components\\Sergio\\Componentcita.py:597: RuntimeWarning: invalid value encountered in multiply\n",
      "  erosion = (self._grid.at_node[\"flood_intermittency\"]\n",
      "C:\\Users\\Paquito\\Desktop\\Github\\landlab\\landlab\\components\\Sergio\\Componentcita.py:618: RuntimeWarning: invalid value encountered in multiply\n",
      "  pq = p * q\n"
     ]
    }
   ],
   "source": [
    "# Run the model for a year\n",
    "dt = YEAR/1000\n",
    "for _ in range(1000):\n",
    "    nety.run_one_step(dt=dt, q_in=0.000834)\n",
    "\n",
    "# plot the new alluvium\n",
    "ys = ngrid.at_node[\"mean_alluvium_thickness\"]\n",
    "ax.plot(xs, ys, label=\"a year after\")\n",
    "plt.show(fig)"
   ]
  },
  {
   "cell_type": "code",
   "execution_count": 11,
   "metadata": {},
   "outputs": [
    {
     "data": {
      "text/plain": [
       "<Figure size 432x288 with 0 Axes>"
      ]
     },
     "metadata": {},
     "output_type": "display_data"
    }
   ],
   "source": [
    "%matplotlib inline\n",
    "fig = plt.gcf()\n",
    "plt.show(fig)"
   ]
  },
  {
   "cell_type": "code",
   "execution_count": null,
   "metadata": {},
   "outputs": [],
   "source": [
    "print(ngrid[\"node\"].keys())"
   ]
  },
  {
   "cell_type": "code",
   "execution_count": null,
   "metadata": {},
   "outputs": [],
   "source": [
    "ys"
   ]
  },
  {
   "cell_type": "code",
   "execution_count": null,
   "metadata": {},
   "outputs": [],
   "source": []
  }
 ],
 "metadata": {
  "kernelspec": {
   "display_name": "landlab_dev",
   "language": "python",
   "name": "landlab_dev"
  },
  "language_info": {
   "codemirror_mode": {
    "name": "ipython",
    "version": 3
   },
   "file_extension": ".py",
   "mimetype": "text/x-python",
   "name": "python",
   "nbconvert_exporter": "python",
   "pygments_lexer": "ipython3",
   "version": "3.10.5"
  }
 },
 "nbformat": 4,
 "nbformat_minor": 2
}
